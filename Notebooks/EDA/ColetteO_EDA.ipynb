{
 "cells": [
  {
   "cell_type": "markdown",
   "id": "c2921543",
   "metadata": {},
   "source": [
    "# **Exploring Humanitarian Needs Data**"
   ]
  }
 ],
 "metadata": {
  "language_info": {
   "name": "python"
  }
 },
 "nbformat": 4,
 "nbformat_minor": 5
}
